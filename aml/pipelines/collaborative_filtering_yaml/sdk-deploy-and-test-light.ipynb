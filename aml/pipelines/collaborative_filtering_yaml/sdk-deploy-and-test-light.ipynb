{
    "cells": [
        {
            "attachments": {},
            "cell_type": "markdown",
            "metadata": {},
            "source": [
                "# Notebook to reproduce batch invoke bug, lighter version out of original.\n",
                "Issue on github -> https://github.com/Azure/azure-sdk-for-python/issues/31166"
            ]
        },
        {
            "cell_type": "code",
            "execution_count": null,
            "metadata": {},
            "outputs": [],
            "source": [
                "from azure.identity import DefaultAzureCredential\n",
                "from azure.ai.ml import MLClient, Input, load_component\n",
                "from azure.ai.ml.entities import (\n",
                "    BatchEndpoint,\n",
                "    PipelineComponentBatchDeployment,\n",
                ")\n",
                "from azure.core.exceptions import ResourceNotFoundError\n",
                "\n",
                "WORKSPACES = {\n",
                "    \"dev_yml\": {\n",
                "        \"subscription_id\": \"<SUBSCRIPTION HERE>\",\n",
                "        \"resource_group_name\": \"<RESOURCE GROUP HERE>\",\n",
                "        \"workspace_name\": \"<WORKSPACE NAME HERE>\",\n",
                "    },\n",
                "}\n",
                "\n",
                "\n",
                "ml_client = MLClient(DefaultAzureCredential(), **WORKSPACES[\"dev_yml\"])\n",
                "print(ml_client)\n",
                "\n",
                "compute_cluster = \"nc6-v3\""
            ]
        },
        {
            "cell_type": "code",
            "execution_count": null,
            "metadata": {},
            "outputs": [],
            "source": [
                "try:\n",
                "    ml_client.compute.get(compute_cluster)\n",
                "except (ResourceNotFoundError, ValueError):\n",
                "    raise BaseException(\"provided compute or credentials are not valid\")"
            ]
        },
        {
            "cell_type": "code",
            "execution_count": null,
            "metadata": {},
            "outputs": [],
            "source": [
                "endpoint_name = \"collaborative-filteringhello\"\n",
                "endpoint = BatchEndpoint(\n",
                "    name=endpoint_name,\n",
                "    description=\"collaborative-filteringhello\",\n",
                ")\n",
                "ml_client.batch_endpoints.begin_create_or_update(endpoint).result()\n",
                "endpoint = ml_client.batch_endpoints.get(name=endpoint_name)\n",
                "print(endpoint)"
            ]
        },
        {
            "cell_type": "code",
            "execution_count": null,
            "metadata": {},
            "outputs": [],
            "source": [
                "\n",
                "pipeline_endpoint_component = load_component(\n",
                "    source=\"./pipeline_endpoint_light.yml\"\n",
                ")"
            ]
        },
        {
            "cell_type": "code",
            "execution_count": null,
            "metadata": {},
            "outputs": [],
            "source": [
                "deployment = PipelineComponentBatchDeployment(\n",
                "    name=\"cf-train-save\",\n",
                "    description=\"collaborative-filtering-train-hello\",\n",
                "    endpoint_name=endpoint.name,\n",
                "    component=pipeline_endpoint_component,\n",
                "    settings={\"continue_on_step_failure\": False, \"default_compute\": compute_cluster},\n",
                ")\n",
                "ml_client.batch_deployments.begin_create_or_update(deployment).result()\n",
                "\n",
                "# set default deployment for batch endpoint:\n",
                "endpoint = ml_client.batch_endpoints.get(endpoint_name)\n",
                "endpoint.defaults.deployment_name = deployment.name\n",
                "ml_client.batch_endpoints.begin_create_or_update(endpoint).result()"
            ]
        },
        {
            "cell_type": "code",
            "execution_count": null,
            "metadata": {},
            "outputs": [],
            "source": [
                "# invoke for sandbox:\n",
                "\n",
                "interactions_date = \"2023-06-18\"\n",
                "config_path = \"aml/pipelines/collaborativefiltering/config/cf_owl_male.yaml\"\n",
                "\n",
                "job = ml_client.batch_endpoints.invoke(\n",
                "    endpoint_name=endpoint.name,\n",
                "    inputs={\n",
                "        \"hello\": Input(type=\"string\", default=\"hello\"),\n",
                "        \"interactions_date\": Input(type=\"string\", default=interactions_date),\n",
                "        \"config_path\": Input(type=\"string\", default=config_path),\n",
                "        \"extra_args\": None,\n",
                "    },\n",
                ")\n"
            ]
        }
    ],
    "metadata": {
        "kernel_info": {
            "name": "amlv2"
        },
        "kernelspec": {
            "display_name": "neptune-recspoc",
            "language": "python",
            "name": "python3"
        },
        "language_info": {
            "codemirror_mode": {
                "name": "ipython",
                "version": 3
            },
            "file_extension": ".py",
            "mimetype": "text/x-python",
            "name": "python",
            "nbconvert_exporter": "python",
            "pygments_lexer": "ipython3",
            "version": "3.8.16"
        },
        "nteract": {
            "version": "nteract-front-end@1.0.0"
        }
    },
    "nbformat": 4,
    "nbformat_minor": 1
}
